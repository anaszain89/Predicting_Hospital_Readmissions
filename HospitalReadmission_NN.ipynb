{
 "cells": [
  {
   "cell_type": "code",
   "execution_count": 153,
   "metadata": {},
   "outputs": [],
   "source": [
    "%matplotlib inline\n",
    "import pandas as pd\n",
    "import numpy as np\n",
    "from fastai.structured import *\n",
    "from fastai.column_data import *\n",
    "import matplotlib.pyplot as plt\n",
    "# import collections\n",
    "from sklearn.model_selection import train_test_split\n",
    "# import seaborn as sns; sns.set()\n",
    "from sklearn.metrics import confusion_matrix, roc_auc_score\n"
   ]
  },
  {
   "cell_type": "code",
   "execution_count": 117,
   "metadata": {},
   "outputs": [],
   "source": [
    "PATH = 'data/Readmissions/'\n",
    "train_orig = pd.read_csv(f'{PATH}diabetic_data.csv')"
   ]
  },
  {
   "cell_type": "code",
   "execution_count": 118,
   "metadata": {},
   "outputs": [
    {
     "data": {
      "text/html": [
       "<div>\n",
       "<style scoped>\n",
       "    .dataframe tbody tr th:only-of-type {\n",
       "        vertical-align: middle;\n",
       "    }\n",
       "\n",
       "    .dataframe tbody tr th {\n",
       "        vertical-align: top;\n",
       "    }\n",
       "\n",
       "    .dataframe thead th {\n",
       "        text-align: right;\n",
       "    }\n",
       "</style>\n",
       "<table border=\"1\" class=\"dataframe\">\n",
       "  <thead>\n",
       "    <tr style=\"text-align: right;\">\n",
       "      <th></th>\n",
       "      <th>encounter_id</th>\n",
       "      <th>patient_nbr</th>\n",
       "      <th>admission_type_id</th>\n",
       "      <th>discharge_disposition_id</th>\n",
       "      <th>admission_source_id</th>\n",
       "      <th>time_in_hospital</th>\n",
       "      <th>num_lab_procedures</th>\n",
       "      <th>num_procedures</th>\n",
       "      <th>num_medications</th>\n",
       "      <th>number_outpatient</th>\n",
       "      <th>number_emergency</th>\n",
       "      <th>number_inpatient</th>\n",
       "      <th>number_diagnoses</th>\n",
       "      <th>flag_1</th>\n",
       "      <th>flag_2</th>\n",
       "    </tr>\n",
       "  </thead>\n",
       "  <tbody>\n",
       "    <tr>\n",
       "      <th>count</th>\n",
       "      <td>1.017660e+05</td>\n",
       "      <td>1.017660e+05</td>\n",
       "      <td>101766.000000</td>\n",
       "      <td>101766.000000</td>\n",
       "      <td>101766.000000</td>\n",
       "      <td>101766.000000</td>\n",
       "      <td>101766.000000</td>\n",
       "      <td>101766.000000</td>\n",
       "      <td>101766.000000</td>\n",
       "      <td>101766.000000</td>\n",
       "      <td>101766.000000</td>\n",
       "      <td>101766.000000</td>\n",
       "      <td>101766.000000</td>\n",
       "      <td>101766.000000</td>\n",
       "      <td>101766.000000</td>\n",
       "    </tr>\n",
       "    <tr>\n",
       "      <th>mean</th>\n",
       "      <td>1.652016e+08</td>\n",
       "      <td>5.433040e+07</td>\n",
       "      <td>2.024006</td>\n",
       "      <td>3.715642</td>\n",
       "      <td>5.754437</td>\n",
       "      <td>4.395987</td>\n",
       "      <td>43.095641</td>\n",
       "      <td>1.339730</td>\n",
       "      <td>16.021844</td>\n",
       "      <td>0.369357</td>\n",
       "      <td>0.197836</td>\n",
       "      <td>0.635566</td>\n",
       "      <td>7.422607</td>\n",
       "      <td>0.460881</td>\n",
       "      <td>0.810163</td>\n",
       "    </tr>\n",
       "    <tr>\n",
       "      <th>std</th>\n",
       "      <td>1.026403e+08</td>\n",
       "      <td>3.869636e+07</td>\n",
       "      <td>1.445403</td>\n",
       "      <td>5.280166</td>\n",
       "      <td>4.064081</td>\n",
       "      <td>2.985108</td>\n",
       "      <td>19.674362</td>\n",
       "      <td>1.705807</td>\n",
       "      <td>8.127566</td>\n",
       "      <td>1.267265</td>\n",
       "      <td>0.930472</td>\n",
       "      <td>1.262863</td>\n",
       "      <td>1.933600</td>\n",
       "      <td>0.498470</td>\n",
       "      <td>0.923239</td>\n",
       "    </tr>\n",
       "    <tr>\n",
       "      <th>min</th>\n",
       "      <td>1.252200e+04</td>\n",
       "      <td>1.350000e+02</td>\n",
       "      <td>1.000000</td>\n",
       "      <td>1.000000</td>\n",
       "      <td>1.000000</td>\n",
       "      <td>1.000000</td>\n",
       "      <td>1.000000</td>\n",
       "      <td>0.000000</td>\n",
       "      <td>1.000000</td>\n",
       "      <td>0.000000</td>\n",
       "      <td>0.000000</td>\n",
       "      <td>0.000000</td>\n",
       "      <td>1.000000</td>\n",
       "      <td>0.000000</td>\n",
       "      <td>0.000000</td>\n",
       "    </tr>\n",
       "    <tr>\n",
       "      <th>25%</th>\n",
       "      <td>8.496119e+07</td>\n",
       "      <td>2.341322e+07</td>\n",
       "      <td>1.000000</td>\n",
       "      <td>1.000000</td>\n",
       "      <td>1.000000</td>\n",
       "      <td>2.000000</td>\n",
       "      <td>31.000000</td>\n",
       "      <td>0.000000</td>\n",
       "      <td>10.000000</td>\n",
       "      <td>0.000000</td>\n",
       "      <td>0.000000</td>\n",
       "      <td>0.000000</td>\n",
       "      <td>6.000000</td>\n",
       "      <td>0.000000</td>\n",
       "      <td>0.000000</td>\n",
       "    </tr>\n",
       "    <tr>\n",
       "      <th>50%</th>\n",
       "      <td>1.523890e+08</td>\n",
       "      <td>4.550514e+07</td>\n",
       "      <td>1.000000</td>\n",
       "      <td>1.000000</td>\n",
       "      <td>7.000000</td>\n",
       "      <td>4.000000</td>\n",
       "      <td>44.000000</td>\n",
       "      <td>1.000000</td>\n",
       "      <td>15.000000</td>\n",
       "      <td>0.000000</td>\n",
       "      <td>0.000000</td>\n",
       "      <td>0.000000</td>\n",
       "      <td>8.000000</td>\n",
       "      <td>0.000000</td>\n",
       "      <td>0.000000</td>\n",
       "    </tr>\n",
       "    <tr>\n",
       "      <th>75%</th>\n",
       "      <td>2.302709e+08</td>\n",
       "      <td>8.754595e+07</td>\n",
       "      <td>3.000000</td>\n",
       "      <td>4.000000</td>\n",
       "      <td>7.000000</td>\n",
       "      <td>6.000000</td>\n",
       "      <td>57.000000</td>\n",
       "      <td>2.000000</td>\n",
       "      <td>20.000000</td>\n",
       "      <td>0.000000</td>\n",
       "      <td>0.000000</td>\n",
       "      <td>1.000000</td>\n",
       "      <td>9.000000</td>\n",
       "      <td>1.000000</td>\n",
       "      <td>2.000000</td>\n",
       "    </tr>\n",
       "    <tr>\n",
       "      <th>max</th>\n",
       "      <td>4.438672e+08</td>\n",
       "      <td>1.895026e+08</td>\n",
       "      <td>8.000000</td>\n",
       "      <td>28.000000</td>\n",
       "      <td>25.000000</td>\n",
       "      <td>14.000000</td>\n",
       "      <td>132.000000</td>\n",
       "      <td>6.000000</td>\n",
       "      <td>81.000000</td>\n",
       "      <td>42.000000</td>\n",
       "      <td>76.000000</td>\n",
       "      <td>21.000000</td>\n",
       "      <td>16.000000</td>\n",
       "      <td>1.000000</td>\n",
       "      <td>2.000000</td>\n",
       "    </tr>\n",
       "  </tbody>\n",
       "</table>\n",
       "</div>"
      ],
      "text/plain": [
       "       encounter_id   patient_nbr  admission_type_id  \\\n",
       "count  1.017660e+05  1.017660e+05      101766.000000   \n",
       "mean   1.652016e+08  5.433040e+07           2.024006   \n",
       "std    1.026403e+08  3.869636e+07           1.445403   \n",
       "min    1.252200e+04  1.350000e+02           1.000000   \n",
       "25%    8.496119e+07  2.341322e+07           1.000000   \n",
       "50%    1.523890e+08  4.550514e+07           1.000000   \n",
       "75%    2.302709e+08  8.754595e+07           3.000000   \n",
       "max    4.438672e+08  1.895026e+08           8.000000   \n",
       "\n",
       "       discharge_disposition_id  admission_source_id  time_in_hospital  \\\n",
       "count             101766.000000        101766.000000     101766.000000   \n",
       "mean                   3.715642             5.754437          4.395987   \n",
       "std                    5.280166             4.064081          2.985108   \n",
       "min                    1.000000             1.000000          1.000000   \n",
       "25%                    1.000000             1.000000          2.000000   \n",
       "50%                    1.000000             7.000000          4.000000   \n",
       "75%                    4.000000             7.000000          6.000000   \n",
       "max                   28.000000            25.000000         14.000000   \n",
       "\n",
       "       num_lab_procedures  num_procedures  num_medications  number_outpatient  \\\n",
       "count       101766.000000   101766.000000    101766.000000      101766.000000   \n",
       "mean            43.095641        1.339730        16.021844           0.369357   \n",
       "std             19.674362        1.705807         8.127566           1.267265   \n",
       "min              1.000000        0.000000         1.000000           0.000000   \n",
       "25%             31.000000        0.000000        10.000000           0.000000   \n",
       "50%             44.000000        1.000000        15.000000           0.000000   \n",
       "75%             57.000000        2.000000        20.000000           0.000000   \n",
       "max            132.000000        6.000000        81.000000          42.000000   \n",
       "\n",
       "       number_emergency  number_inpatient  number_diagnoses         flag_1  \\\n",
       "count     101766.000000     101766.000000     101766.000000  101766.000000   \n",
       "mean           0.197836          0.635566          7.422607       0.460881   \n",
       "std            0.930472          1.262863          1.933600       0.498470   \n",
       "min            0.000000          0.000000          1.000000       0.000000   \n",
       "25%            0.000000          0.000000          6.000000       0.000000   \n",
       "50%            0.000000          0.000000          8.000000       0.000000   \n",
       "75%            0.000000          1.000000          9.000000       1.000000   \n",
       "max           76.000000         21.000000         16.000000       1.000000   \n",
       "\n",
       "              flag_2  \n",
       "count  101766.000000  \n",
       "mean        0.810163  \n",
       "std         0.923239  \n",
       "min         0.000000  \n",
       "25%         0.000000  \n",
       "50%         0.000000  \n",
       "75%         2.000000  \n",
       "max         2.000000  "
      ]
     },
     "execution_count": 118,
     "metadata": {},
     "output_type": "execute_result"
    }
   ],
   "source": [
    "train_orig.describe()"
   ]
  },
  {
   "cell_type": "markdown",
   "metadata": {},
   "source": [
    "### Cleaning up the dataset"
   ]
  },
  {
   "cell_type": "code",
   "execution_count": 119,
   "metadata": {},
   "outputs": [
    {
     "name": "stdout",
     "output_type": "stream",
     "text": [
      "encounter_id                1.000000\n",
      "patient_nbr                 1.000000\n",
      "race                        0.977664\n",
      "gender                      1.000000\n",
      "age                         1.000000\n",
      "weight                      0.031415\n",
      "admission_type_id           1.000000\n",
      "discharge_disposition_id    1.000000\n",
      "admission_source_id         1.000000\n",
      "time_in_hospital            1.000000\n",
      "payer_code                  0.604426\n",
      "medical_specialty           0.509178\n",
      "num_lab_procedures          1.000000\n",
      "num_procedures              1.000000\n",
      "num_medications             1.000000\n",
      "number_outpatient           1.000000\n",
      "number_emergency            1.000000\n",
      "number_inpatient            1.000000\n",
      "diag_1                      0.999794\n",
      "diag_2                      0.996482\n",
      "diag_3                      0.986017\n",
      "number_diagnoses            1.000000\n",
      "max_glu_serum               1.000000\n",
      "A1Cresult                   1.000000\n",
      "metformin                   1.000000\n",
      "repaglinide                 1.000000\n",
      "nateglinide                 1.000000\n",
      "chlorpropamide              1.000000\n",
      "glimepiride                 1.000000\n",
      "acetohexamide               1.000000\n",
      "glipizide                   1.000000\n",
      "glyburide                   1.000000\n",
      "tolbutamide                 1.000000\n",
      "pioglitazone                1.000000\n",
      "rosiglitazone               1.000000\n",
      "acarbose                    1.000000\n",
      "miglitol                    1.000000\n",
      "troglitazone                1.000000\n",
      "tolazamide                  1.000000\n",
      "examide                     1.000000\n",
      "citoglipton                 1.000000\n",
      "insulin                     1.000000\n",
      "glyburide-metformin         1.000000\n",
      "glipizide-metformin         1.000000\n",
      "glimepiride-pioglitazone    1.000000\n",
      "metformin-rosiglitazone     1.000000\n",
      "metformin-pioglitazone      1.000000\n",
      "change                      1.000000\n",
      "diabetesMed                 1.000000\n",
      "readmitted                  1.000000\n",
      "flag_1                      1.000000\n",
      "flag_2                      1.000000\n",
      "dtype: float64\n",
      " **** Columns with more that 90\\% missing data ***\n",
      "Index(['weight', 'payer_code', 'medical_specialty'], dtype='object')\n"
     ]
    }
   ],
   "source": [
    "train_orig = train_orig.replace('?', np.nan)\n",
    "print(train_orig.count() / len(train_orig.index))\n",
    "#items with more than 90% missing data!\n",
    "print(' **** Columns with more that 90\\% missing data ***')\n",
    "print(train_orig.columns[(train_orig.count() / len(train_orig.index))<0.9])\n",
    "# df = df.dropna(axis='rows')"
   ]
  },
  {
   "cell_type": "code",
   "execution_count": 120,
   "metadata": {},
   "outputs": [
    {
     "data": {
      "text/plain": [
       "101766"
      ]
     },
     "execution_count": 120,
     "metadata": {},
     "output_type": "execute_result"
    }
   ],
   "source": [
    "len(train_orig)"
   ]
  },
  {
   "cell_type": "code",
   "execution_count": 121,
   "metadata": {},
   "outputs": [],
   "source": [
    "# dropping columns with more than 90% missing data\n",
    "df = train_orig.dropna(thresh=0.9*len(train_orig.index),axis='columns')\n",
    "#dropping any patients with missing data in any column\n",
    "df = df.dropna(axis='rows')\n",
    "df = df.drop(['encounter_id','patient_nbr', 'readmitted'],axis=1)\n",
    "# print(df.count() / len(df.index))\n",
    "# df.shape"
   ]
  },
  {
   "cell_type": "code",
   "execution_count": 122,
   "metadata": {},
   "outputs": [
    {
     "data": {
      "text/plain": [
       "98053"
      ]
     },
     "execution_count": 122,
     "metadata": {},
     "output_type": "execute_result"
    }
   ],
   "source": [
    "len(df)"
   ]
  },
  {
   "cell_type": "code",
   "execution_count": 123,
   "metadata": {},
   "outputs": [],
   "source": [
    "level1_edges = pd.read_csv(f'{PATH}level1_bins.csv', header=None)\n",
    "level1_edges = list(level1_edges.values.flatten())\n",
    "\n",
    "level2_edges = pd.read_csv(f'{PATH}level2_bins.csv', header=None)\n",
    "level2_edges = list(level2_edges.values.flatten())"
   ]
  },
  {
   "cell_type": "code",
   "execution_count": 126,
   "metadata": {},
   "outputs": [],
   "source": [
    "for tt in [\"diag_1\", \"diag_2\", \"diag_3\"]:\n",
    "    t = tt + \"_short\"\n",
    "    df[t] = df[tt]\n",
    "    df[t][df[t].str.startswith('V', na=False)] = '1200'\n",
    "    df[t][df[t].str.startswith('E', na=False)] = '1200'\n",
    "    df[t] = df[t].astype('float')\n",
    "    df[t] = pd.np.digitize(df[t], bins=level1_edges)\n",
    "    \n",
    "    t = tt + \"_long\"\n",
    "    df[t] = df[tt]\n",
    "    df[t][df[t].str.startswith('V', na=False)] = '1200'\n",
    "    df[t][df[t].str.startswith('E', na=False)] = '1200'\n",
    "    df[t] = df[t].astype('float')\n",
    "    df[t] = pd.np.digitize(df[t], bins=level2_edges)\n",
    "df = df.drop(['diag_1','diag_2', 'diag_3'],axis=1)\n",
    "# to_drop_meds = ['metformin', 'repaglinide', 'nateglinide', 'chlorpropamide', 'glimepiride', 'acetohexamide', 'glipizide', 'glyburide', 'tolbutamide', 'pioglitazone', 'rosiglitazone', 'acarbose', 'miglitol', 'troglitazone', 'tolazamide', 'examide', 'citoglipton', 'insulin', 'glyburide-metformin', 'glipizide-metformin', 'glimepiride-pioglitazone', 'metformin-rosiglitazone', 'metformin-pioglitazone']\n",
    "# df = df.drop(to_drop_meds,axis=1)"
   ]
  },
  {
   "cell_type": "code",
   "execution_count": 127,
   "metadata": {},
   "outputs": [],
   "source": [
    "to_drop_meds = ['metformin', 'repaglinide', 'nateglinide', 'chlorpropamide', 'glimepiride', 'acetohexamide', 'glipizide', 'glyburide', 'tolbutamide', 'pioglitazone', 'rosiglitazone', 'acarbose', 'miglitol', 'troglitazone', 'tolazamide', 'examide', 'citoglipton', 'insulin', 'glyburide-metformin', 'glipizide-metformin', 'glimepiride-pioglitazone', 'metformin-rosiglitazone', 'metformin-pioglitazone']\n",
    "\n",
    "df_meds = df[to_drop_meds]\n",
    "for t in df_meds:\n",
    "    df_meds[t][df_meds[t]=='No']= 0\n",
    "    df_meds[t][df_meds[t]=='Down']= 1\n",
    "    df_meds[t][df_meds[t]=='Steady']= 1\n",
    "    df_meds[t][df_meds[t]=='Up']= 1\n",
    "count_meds = (df_meds > 0).sum(axis=1)\n",
    "df['diabetes_med_counts'] = count_meds"
   ]
  },
  {
   "cell_type": "code",
   "execution_count": 128,
   "metadata": {},
   "outputs": [],
   "source": [
    "df = df.drop(to_drop_meds,axis=1)"
   ]
  },
  {
   "cell_type": "markdown",
   "metadata": {},
   "source": [
    "### Identifying numerical and categorical features"
   ]
  },
  {
   "cell_type": "code",
   "execution_count": 129,
   "metadata": {},
   "outputs": [],
   "source": [
    "numerical_features = list(df.columns[df.dtypes=='int64'])\n",
    "text_features = list(df.columns[df.dtypes=='object'])\n",
    "\n",
    "# text_features\n",
    "categorical_features = text_features + list(['admission_type_id', 'discharge_disposition_id', 'admission_source_id', 'flag_1', 'flag_2', 'diag_1_short',\n",
    "                                            'diag_2_short', 'diag_3_short', 'diag_1_long', 'diag_2_long', 'diag_3_long'])\n",
    "continuous_features = [e for e in numerical_features if e not in list(['admission_type_id', 'discharge_disposition_id', 'admission_source_id', 'flag_1', 'flag_2', 'diag_1_short',\n",
    "                                            'diag_2_short', 'diag_3_short', 'diag_1_long', 'diag_2_long', 'diag_3_long'])]\n"
   ]
  },
  {
   "cell_type": "code",
   "execution_count": 130,
   "metadata": {},
   "outputs": [
    {
     "name": "stdout",
     "output_type": "stream",
     "text": [
      "Categorical Features : \n",
      "  ['race', 'gender', 'age', 'max_glu_serum', 'A1Cresult', 'change', 'diabetesMed', 'admission_type_id', 'discharge_disposition_id', 'admission_source_id', 'diag_1_short', 'diag_2_short', 'diag_3_short', 'diag_1_long', 'diag_2_long', 'diag_3_long']\n",
      "Continuous Features : \n",
      "  ['time_in_hospital', 'num_lab_procedures', 'num_procedures', 'num_medications', 'number_outpatient', 'number_emergency', 'number_inpatient', 'number_diagnoses', 'diabetes_med_counts']\n"
     ]
    }
   ],
   "source": [
    "for v in categorical_features: df[v] = df[v].astype('category').cat.as_ordered()\n",
    "for v in continuous_features: df[v] = df[v].astype('float')\n",
    "for v in ['flag_1','flag_2']: df[v] = df[v].astype('int')\n",
    "df['flag'] = df['flag_1']==1\n",
    "df['flag'].value_counts()\n",
    "\n",
    "df = df[categorical_features+continuous_features].copy()\n",
    "categorical_features.remove('flag_1')\n",
    "categorical_features.remove('flag_2')\n",
    "\n",
    "print('Categorical Features : \\n ', categorical_features)\n",
    "print('Continuous Features : \\n ',continuous_features)"
   ]
  },
  {
   "cell_type": "code",
   "execution_count": 133,
   "metadata": {},
   "outputs": [
    {
     "data": {
      "text/plain": [
       "False    86987\n",
       "True     11066\n",
       "Name: flag, dtype: int64"
      ]
     },
     "execution_count": 133,
     "metadata": {},
     "output_type": "execute_result"
    }
   ],
   "source": [
    "df['flag'] = df['flag_2']==1\n",
    "df['flag'].value_counts()"
   ]
  },
  {
   "cell_type": "code",
   "execution_count": 15,
   "metadata": {},
   "outputs": [],
   "source": [
    "df.to_csv(f'{PATH}cleaned_diabetic_data.csv')"
   ]
  },
  {
   "cell_type": "code",
   "execution_count": 135,
   "metadata": {},
   "outputs": [],
   "source": [
    "df_fin, y, nas, mapper = proc_df(df, 'flag', skip_flds = ['flag_1','flag_2'],do_scale=True)\n",
    "# df_fin.dtypes"
   ]
  },
  {
   "cell_type": "code",
   "execution_count": 136,
   "metadata": {},
   "outputs": [],
   "source": [
    "X_train, X_test, Y_train, Y_test = train_test_split(df_fin, y, test_size = 0.20)\n",
    "# X_train, X_val, Y_train, Y_val = train_test_split(X_train, Y_train, test_size=0.15, random_state=1)"
   ]
  },
  {
   "cell_type": "code",
   "execution_count": 137,
   "metadata": {},
   "outputs": [],
   "source": [
    "n = len(X_train); n\n",
    "idxs = get_cv_idxs(n, val_pct=10000/n)"
   ]
  },
  {
   "cell_type": "markdown",
   "metadata": {},
   "source": [
    "### Defining Entity Embeddings for categorical variables"
   ]
  },
  {
   "cell_type": "code",
   "execution_count": 138,
   "metadata": {},
   "outputs": [
    {
     "name": "stdout",
     "output_type": "stream",
     "text": [
      "[('race', 5), ('gender', 3), ('age', 10), ('max_glu_serum', 4), ('A1Cresult', 4), ('change', 2), ('diabetesMed', 2), ('admission_type_id', 8), ('discharge_disposition_id', 26), ('admission_source_id', 17), ('diag_1_short', 17), ('diag_2_short', 17), ('diag_3_short', 17), ('diag_1_long', 105), ('diag_2_long', 104), ('diag_3_long', 104)]\n"
     ]
    }
   ],
   "source": [
    "cat_sz = [(c, len(df[c].cat.categories)) for c in categorical_features]\n",
    "print(cat_sz)\n",
    "emb_szs = [(c, min(50, (c+1)//2)) for _,c in cat_sz]\n",
    "# (emb_szs)\n"
   ]
  },
  {
   "cell_type": "code",
   "execution_count": 140,
   "metadata": {},
   "outputs": [],
   "source": [
    "md = ColumnarModelData.from_data_frame(PATH, idxs, X_train, Y_train.astype(np.long), cat_flds=categorical_features, bs=128,  test_df= X_test,is_reg=False)\n",
    "m = md.get_learner(emb_szs, len(df_fin.columns) - len(categorical_features), 0.04, 2, [1000,500], [0.01,0.01],crit=F.cross_entropy)\n",
    "# m.summary()"
   ]
  },
  {
   "cell_type": "code",
   "execution_count": 141,
   "metadata": {},
   "outputs": [
    {
     "data": {
      "application/vnd.jupyter.widget-view+json": {
       "model_id": "f709d3ec239a4a35ad6084e62159d86b",
       "version_major": 2,
       "version_minor": 0
      },
      "text/plain": [
       "HBox(children=(IntProgress(value=0, description='Epoch', max=1), HTML(value='')))"
      ]
     },
     "metadata": {},
     "output_type": "display_data"
    },
    {
     "name": "stdout",
     "output_type": "stream",
     "text": [
      " 65%|████████████████████████████████████████████▊                        | 347/535 [00:05<00:02, 63.98it/s, loss=1.42]\n"
     ]
    },
    {
     "data": {
      "image/png": "[encoded data removed]",
      "text/plain": [
       "<Figure size 432x288 with 1 Axes>"
      ]
     },
     "metadata": {
      "needs_background": "light"
     },
     "output_type": "display_data"
    },
    {
     "name": "stdout",
     "output_type": "stream",
     "text": [
      "\r",
      " 65%|████████████████████████████████████████████▊                        | 347/535 [00:20<00:02, 63.98it/s, loss=1.42]"
     ]
    }
   ],
   "source": [
    "lr = 1e-3\n",
    "m.lr_find()\n",
    "m.sched.plot(100)"
   ]
  },
  {
   "cell_type": "code",
   "execution_count": 71,
   "metadata": {},
   "outputs": [],
   "source": [
    "# m.sched.plot_lr()"
   ]
  },
  {
   "cell_type": "code",
   "execution_count": 142,
   "metadata": {},
   "outputs": [
    {
     "data": {
      "application/vnd.jupyter.widget-view+json": {
       "model_id": "7460117dc1b545f5bfbc685b550cf2a4",
       "version_major": 2,
       "version_minor": 0
      },
      "text/plain": [
       "HBox(children=(IntProgress(value=0, description='Epoch', max=10), HTML(value='')))"
      ]
     },
     "metadata": {},
     "output_type": "display_data"
    },
    {
     "name": "stdout",
     "output_type": "stream",
     "text": [
      "epoch      trn_loss   val_loss   accuracy                                                                              \n",
      "    0      0.344833   0.337464   0.887     \n",
      "    1      0.336631   0.344346   0.8868                                                                                \n",
      "    2      0.3285     0.338054   0.8866                                                                                \n",
      "    3      0.327707   0.335971   0.8863                                                                                \n",
      "    4      0.322434   0.339307   0.8864                                                                                \n",
      "    5      0.326258   0.343339   0.8861                                                                                \n",
      "    6      0.330892   0.350499   0.8853                                                                                \n",
      "    7      0.324176   0.342482   0.8859                                                                                \n",
      "    8      0.322571   0.349149   0.8861                                                                                \n",
      "    9      0.306885   0.369372   0.8845                                                                                \n",
      "\n"
     ]
    },
    {
     "data": {
      "text/plain": [
       "[array([0.36937]), 0.8845]"
      ]
     },
     "execution_count": 142,
     "metadata": {},
     "output_type": "execute_result"
    }
   ],
   "source": [
    "lr=0.0055\n",
    "m.fit(lr, 10, metrics=[accuracy])"
   ]
  },
  {
   "cell_type": "code",
   "execution_count": null,
   "metadata": {},
   "outputs": [],
   "source": []
  },
  {
   "cell_type": "markdown",
   "metadata": {},
   "source": [
    "### 3 Class Classification "
   ]
  },
  {
   "cell_type": "code",
   "execution_count": 160,
   "metadata": {},
   "outputs": [
    {
     "data": {
      "text/html": [
       "<div>\n",
       "<style scoped>\n",
       "    .dataframe tbody tr th:only-of-type {\n",
       "        vertical-align: middle;\n",
       "    }\n",
       "\n",
       "    .dataframe tbody tr th {\n",
       "        vertical-align: top;\n",
       "    }\n",
       "\n",
       "    .dataframe thead th {\n",
       "        text-align: right;\n",
       "    }\n",
       "</style>\n",
       "<table border=\"1\" class=\"dataframe\">\n",
       "  <thead>\n",
       "    <tr style=\"text-align: right;\">\n",
       "      <th></th>\n",
       "      <th>A1Cresult</th>\n",
       "      <th>admission_source_id</th>\n",
       "      <th>admission_type_id</th>\n",
       "      <th>age</th>\n",
       "      <th>change</th>\n",
       "      <th>diabetesMed</th>\n",
       "      <th>diabetes_med_counts</th>\n",
       "      <th>diag_1_long</th>\n",
       "      <th>diag_1_short</th>\n",
       "      <th>diag_2_long</th>\n",
       "      <th>...</th>\n",
       "      <th>max_glu_serum</th>\n",
       "      <th>num_lab_procedures</th>\n",
       "      <th>num_medications</th>\n",
       "      <th>num_procedures</th>\n",
       "      <th>number_diagnoses</th>\n",
       "      <th>number_emergency</th>\n",
       "      <th>number_inpatient</th>\n",
       "      <th>number_outpatient</th>\n",
       "      <th>race</th>\n",
       "      <th>time_in_hospital</th>\n",
       "    </tr>\n",
       "    <tr>\n",
       "      <th>flag_2</th>\n",
       "      <th></th>\n",
       "      <th></th>\n",
       "      <th></th>\n",
       "      <th></th>\n",
       "      <th></th>\n",
       "      <th></th>\n",
       "      <th></th>\n",
       "      <th></th>\n",
       "      <th></th>\n",
       "      <th></th>\n",
       "      <th></th>\n",
       "      <th></th>\n",
       "      <th></th>\n",
       "      <th></th>\n",
       "      <th></th>\n",
       "      <th></th>\n",
       "      <th></th>\n",
       "      <th></th>\n",
       "      <th></th>\n",
       "      <th></th>\n",
       "      <th></th>\n",
       "    </tr>\n",
       "  </thead>\n",
       "  <tbody>\n",
       "    <tr>\n",
       "      <th>0</th>\n",
       "      <td>52338</td>\n",
       "      <td>52338</td>\n",
       "      <td>52338</td>\n",
       "      <td>52338</td>\n",
       "      <td>52338</td>\n",
       "      <td>52338</td>\n",
       "      <td>52338.0</td>\n",
       "      <td>52338</td>\n",
       "      <td>52338</td>\n",
       "      <td>52338</td>\n",
       "      <td>...</td>\n",
       "      <td>52338</td>\n",
       "      <td>52338.0</td>\n",
       "      <td>52338.0</td>\n",
       "      <td>52338.0</td>\n",
       "      <td>52338.0</td>\n",
       "      <td>52338.0</td>\n",
       "      <td>52338.0</td>\n",
       "      <td>52338.0</td>\n",
       "      <td>52338</td>\n",
       "      <td>52338.0</td>\n",
       "    </tr>\n",
       "    <tr>\n",
       "      <th>1</th>\n",
       "      <td>11066</td>\n",
       "      <td>11066</td>\n",
       "      <td>11066</td>\n",
       "      <td>11066</td>\n",
       "      <td>11066</td>\n",
       "      <td>11066</td>\n",
       "      <td>11066.0</td>\n",
       "      <td>11066</td>\n",
       "      <td>11066</td>\n",
       "      <td>11066</td>\n",
       "      <td>...</td>\n",
       "      <td>11066</td>\n",
       "      <td>11066.0</td>\n",
       "      <td>11066.0</td>\n",
       "      <td>11066.0</td>\n",
       "      <td>11066.0</td>\n",
       "      <td>11066.0</td>\n",
       "      <td>11066.0</td>\n",
       "      <td>11066.0</td>\n",
       "      <td>11066</td>\n",
       "      <td>11066.0</td>\n",
       "    </tr>\n",
       "    <tr>\n",
       "      <th>2</th>\n",
       "      <td>34649</td>\n",
       "      <td>34649</td>\n",
       "      <td>34649</td>\n",
       "      <td>34649</td>\n",
       "      <td>34649</td>\n",
       "      <td>34649</td>\n",
       "      <td>34649.0</td>\n",
       "      <td>34649</td>\n",
       "      <td>34649</td>\n",
       "      <td>34649</td>\n",
       "      <td>...</td>\n",
       "      <td>34649</td>\n",
       "      <td>34649.0</td>\n",
       "      <td>34649.0</td>\n",
       "      <td>34649.0</td>\n",
       "      <td>34649.0</td>\n",
       "      <td>34649.0</td>\n",
       "      <td>34649.0</td>\n",
       "      <td>34649.0</td>\n",
       "      <td>34649</td>\n",
       "      <td>34649.0</td>\n",
       "    </tr>\n",
       "  </tbody>\n",
       "</table>\n",
       "<p>3 rows × 27 columns</p>\n",
       "</div>"
      ],
      "text/plain": [
       "        A1Cresult  admission_source_id  admission_type_id    age  change  \\\n",
       "flag_2                                                                     \n",
       "0           52338                52338              52338  52338   52338   \n",
       "1           11066                11066              11066  11066   11066   \n",
       "2           34649                34649              34649  34649   34649   \n",
       "\n",
       "        diabetesMed  diabetes_med_counts  diag_1_long  diag_1_short  \\\n",
       "flag_2                                                                \n",
       "0             52338              52338.0        52338         52338   \n",
       "1             11066              11066.0        11066         11066   \n",
       "2             34649              34649.0        34649         34649   \n",
       "\n",
       "        diag_2_long        ...         max_glu_serum  num_lab_procedures  \\\n",
       "flag_2                     ...                                             \n",
       "0             52338        ...                 52338             52338.0   \n",
       "1             11066        ...                 11066             11066.0   \n",
       "2             34649        ...                 34649             34649.0   \n",
       "\n",
       "        num_medications  num_procedures  number_diagnoses  number_emergency  \\\n",
       "flag_2                                                                        \n",
       "0               52338.0         52338.0           52338.0           52338.0   \n",
       "1               11066.0         11066.0           11066.0           11066.0   \n",
       "2               34649.0         34649.0           34649.0           34649.0   \n",
       "\n",
       "        number_inpatient  number_outpatient   race  time_in_hospital  \n",
       "flag_2                                                                \n",
       "0                52338.0            52338.0  52338           52338.0  \n",
       "1                11066.0            11066.0  11066           11066.0  \n",
       "2                34649.0            34649.0  34649           34649.0  \n",
       "\n",
       "[3 rows x 27 columns]"
      ]
     },
     "execution_count": 160,
     "metadata": {},
     "output_type": "execute_result"
    }
   ],
   "source": [
    "df.pivot_table(index='flag_2',aggfunc=len)"
   ]
  },
  {
   "cell_type": "code",
   "execution_count": 147,
   "metadata": {},
   "outputs": [],
   "source": [
    "df_fin, y, nas, mapper= proc_df(df, 'flag_2', skip_flds = ['flag','flag_1'],do_scale=True)\n",
    "X_train, X_test, Y_train, Y_test = train_test_split(df_fin, y, test_size = 0.1,stratify=y)\n",
    "n = len(X_train); n\n",
    "idxs = get_cv_idxs(n, val_pct=10000/n)"
   ]
  },
  {
   "cell_type": "code",
   "execution_count": 150,
   "metadata": {},
   "outputs": [
    {
     "data": {
      "application/vnd.jupyter.widget-view+json": {
       "model_id": "34a2360566e54629a97dc57eaef69ef8",
       "version_major": 2,
       "version_minor": 0
      },
      "text/plain": [
       "HBox(children=(IntProgress(value=0, description='Epoch', max=1), HTML(value='')))"
      ]
     },
     "metadata": {},
     "output_type": "display_data"
    },
    {
     "name": "stdout",
     "output_type": "stream",
     "text": [
      " 84%|██████████████████████████████████████████████████████████▎          | 517/612 [00:06<00:01, 85.73it/s, loss=4.07]\n"
     ]
    },
    {
     "data": {
      "image/png": "[encoded data removed]",
      "text/plain": [
       "<Figure size 432x288 with 1 Axes>"
      ]
     },
     "metadata": {
      "needs_background": "light"
     },
     "output_type": "display_data"
    },
    {
     "name": "stdout",
     "output_type": "stream",
     "text": [
      "\r",
      " 84%|██████████████████████████████████████████████████████████▎          | 517/612 [00:24<00:01, 85.73it/s, loss=4.07]"
     ]
    }
   ],
   "source": [
    "md_2 = ColumnarModelData.from_data_frame(PATH, idxs, X_train, Y_train.astype(np.long), cat_flds=categorical_features, bs=128,  test_df= X_test,is_reg=False)\n",
    "m2 = md_2.get_learner(emb_szs, len(df_fin.columns) - len(categorical_features), 0.00, 3, [500], [0.01],crit=F.cross_entropy)\n",
    "# m.summary()\n",
    "\n",
    "lr = 1e-3\n",
    "m2.lr_find()\n",
    "m2.sched.plot(100)"
   ]
  },
  {
   "cell_type": "code",
   "execution_count": 151,
   "metadata": {},
   "outputs": [
    {
     "data": {
      "application/vnd.jupyter.widget-view+json": {
       "model_id": "1b6592a1e82a47eba32c2eb87e8d1a55",
       "version_major": 2,
       "version_minor": 0
      },
      "text/plain": [
       "HBox(children=(IntProgress(value=0, description='Epoch', max=5), HTML(value='')))"
      ]
     },
     "metadata": {},
     "output_type": "display_data"
    },
    {
     "name": "stdout",
     "output_type": "stream",
     "text": [
      "epoch      trn_loss   val_loss   accuracy                                                                              \n",
      "    0      0.887302   0.882809   0.578     \n",
      "    1      0.880766   0.878713   0.5823                                                                                \n",
      "    2      0.881985   0.884441   0.5759                                                                                \n",
      "    3      0.880971   0.882139   0.5778                                                                                \n",
      "    4      0.883573   0.879257   0.58                                                                                  \n",
      "\n"
     ]
    },
    {
     "data": {
      "text/plain": [
       "[array([0.87926]), 0.58]"
      ]
     },
     "execution_count": 151,
     "metadata": {},
     "output_type": "execute_result"
    }
   ],
   "source": [
    "m2.fit(10e-3, 5, metrics=[accuracy])"
   ]
  },
  {
   "cell_type": "code",
   "execution_count": 152,
   "metadata": {},
   "outputs": [
    {
     "data": {
      "application/vnd.jupyter.widget-view+json": {
       "model_id": "1ced518e68e246a6a0442a4c6fc1a65e",
       "version_major": 2,
       "version_minor": 0
      },
      "text/plain": [
       "HBox(children=(IntProgress(value=0, description='Epoch', max=10), HTML(value='')))"
      ]
     },
     "metadata": {},
     "output_type": "display_data"
    },
    {
     "name": "stdout",
     "output_type": "stream",
     "text": [
      "epoch      trn_loss   val_loss   accuracy                                                                              \n",
      "    0      0.871082   0.885699   0.5788    \n",
      "    1      0.874341   0.875889   0.5817                                                                                \n",
      "    2      0.869032   0.880668   0.5807                                                                                \n",
      "    3      0.880301   0.889445   0.5784                                                                                \n",
      "    4      0.877453   0.882828   0.5749                                                                                \n",
      "    5      0.883208   0.879441   0.5778                                                                                \n",
      "    6      0.866976   0.88996    0.5761                                                                                \n",
      "    7      0.87016    0.883467   0.5747                                                                                \n",
      "    8      0.86979    0.891299   0.5791                                                                                \n",
      "    9      0.868766   0.888872   0.5705                                                                                \n",
      "\n"
     ]
    },
    {
     "data": {
      "text/plain": [
       "[array([0.88887]), 0.5705]"
      ]
     },
     "execution_count": 152,
     "metadata": {},
     "output_type": "execute_result"
    }
   ],
   "source": [
    "m2.fit(10e-3, 10, metrics=[accuracy])"
   ]
  },
  {
   "cell_type": "code",
   "execution_count": 154,
   "metadata": {},
   "outputs": [
    {
     "name": "stdout",
     "output_type": "stream",
     "text": [
      "AUC: %d [0.6894  0.6762  0.64338]\n"
     ]
    },
    {
     "data": {
      "image/png": "[encoded data removed]",
      "text/plain": [
       "<Figure size 432x288 with 1 Axes>"
      ]
     },
     "metadata": {
      "needs_background": "light"
     },
     "output_type": "display_data"
    }
   ],
   "source": [
    "preds = m2.predict(True)\n",
    "ypreds = preds.argmax(axis=1)\n",
    "\n",
    "from sklearn.metrics import confusion_matrix, roc_auc_score\n",
    "\n",
    "mat = confusion_matrix(Y_test, ypreds)\n",
    "sns.heatmap(mat, square=True, annot=True, fmt='d', cbar=False)\n",
    "plt.ylabel('True label')\n",
    "plt.xlabel('Predicted label')\n",
    "\n",
    "# Get one hot encoding to compute AUC value\n",
    "enc = sklearn.preprocessing.OneHotEncoder(sparse=False)\n",
    "out_val = enc.fit(Y_test.reshape(-1, 1))\n",
    "out_val = enc.transform(Y_test.reshape(-1, 1))\n",
    "print(\"AUC: %d\", roc_auc_score(out_val,preds,average=None))"
   ]
  }
 ],
 "metadata": {
  "anaconda-cloud": {},
  "kernelspec": {
   "display_name": "Python 3",
   "language": "python",
   "name": "python3"
  },
  "language_info": {
   "codemirror_mode": {
    "name": "ipython",
    "version": 3
   },
   "file_extension": ".py",
   "mimetype": "text/x-python",
   "name": "python",
   "nbconvert_exporter": "python",
   "pygments_lexer": "ipython3",
   "version": "3.6.6"
  }
 },
 "nbformat": 4,
 "nbformat_minor": 2
}
